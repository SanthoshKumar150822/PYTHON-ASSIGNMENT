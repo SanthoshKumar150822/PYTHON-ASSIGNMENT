{
 "cells": [
  {
   "cell_type": "code",
   "execution_count": 1,
   "metadata": {},
   "outputs": [
    {
     "name": "stdout",
     "output_type": "stream",
     "text": [
      "[['1000' 'Torbati' 'Yolanda' 'F' 'rogrammer']\n",
      " ['1001' 'Klien' 'joel' 'M' 'rogrammer']\n",
      " ['1002' 'Ginsburg' 'Laura' 'F' 'president']\n",
      " ['1003' 'Cox' 'jennifer' 'F' 'programmer']\n",
      " ['1005' 'Ziada' 'Mauri' 'M' 'product Designer']\n",
      " ['1006' 'Keyser' 'cara' 'F' 'Account executive']\n",
      " ['1010' 'Smith' 'Roxie' 'M' 'programmer']\n",
      " ['1011' 'Nelson' 'robert' 'M' 'programmer']\n",
      " ['1012' 'Sachsen' 'Lars' 'M' 'Support Technician']\n",
      " ['1013' 'Shannon' 'Don' 'M' 'product Designer']]\n"
     ]
    }
   ],
   "source": [
    "import numpy as np\n",
    "emp= np.array([\n",
    "    [1000,'Torbati','Yolanda','F','rogrammer'],\n",
    "    [1001,'Klien','joel','M','rogrammer'],\n",
    "    [1002,'Ginsburg','Laura','F','president'],\n",
    "    [1003,'Cox','jennifer','F','programmer'],\n",
    "    [1005,'Ziada','Mauri','M','product Designer'],\n",
    "    [1006,'Keyser','cara','F','Account executive'],\n",
    "    [1010,'Smith','Roxie','M','programmer'],\n",
    "    [1011,'Nelson','robert','M','programmer'],\n",
    "    [1012,'Sachsen','Lars','M','Support Technician'],\n",
    "    [1013,'Shannon','Don','M','product Designer']\n",
    "])\n",
    "print(emp)"
   ]
  },
  {
   "cell_type": "code",
   "execution_count": 2,
   "metadata": {},
   "outputs": [
    {
     "name": "stdout",
     "output_type": "stream",
     "text": [
      "number of male employee: 6\n"
     ]
    }
   ],
   "source": [
    "male_count=np.sum(emp[:,3]=='M')\n",
    "print('number of male employee:',male_count)"
   ]
  },
  {
   "cell_type": "code",
   "execution_count": 3,
   "metadata": {},
   "outputs": [
    {
     "name": "stdout",
     "output_type": "stream",
     "text": [
      "Last Name: Smith\n",
      "\n",
      "Last Name: Sachsen\n",
      "\n",
      "Last Name: Shannon\n",
      "\n"
     ]
    }
   ],
   "source": [
    "starts = [row for row in emp if row[1].startswith('S')]\n",
    "\n",
    "for employee in starts:\n",
    "    print(\"Last Name:\", employee[1])\n",
    "    print()"
   ]
  },
  {
   "cell_type": "code",
   "execution_count": 4,
   "metadata": {},
   "outputs": [
    {
     "name": "stdout",
     "output_type": "stream",
     "text": [
      "[['1000' 'Torbati' 'Yolanda' 'F' 'rogrammer']\n",
      " ['1002' 'Ginsburg' 'Laura' 'F' 'president']\n",
      " ['1003' 'Cox' 'jennifer' 'F' 'programmer']\n",
      " ['1006' 'Keyser' 'cara' 'F' 'Account executive']]\n",
      "Employee ID: 1003\n",
      "Last Name: Cox\n",
      "First Name: jennifer\n",
      "Gender: F\n",
      "Position: programmer\n",
      "Employee ID: 1006\n",
      "Last Name: Keyser\n",
      "First Name: cara\n",
      "Gender: F\n",
      "Position: Account executive\n",
      "Employee ID: 1000\n",
      "Last Name: Torbati\n",
      "First Name: Yolanda\n",
      "Gender: F\n",
      "Position: rogrammer\n",
      "Employee ID: 1002\n",
      "Last Name: Ginsburg\n",
      "First Name: Laura\n",
      "Gender: F\n",
      "Position: president\n"
     ]
    }
   ],
   "source": [
    "female= emp[emp[:,3]=='F']\n",
    "print(female)\n",
    "sort_female=female[np.argsort(female[:, 2])[::-1]]\n",
    "for employee in sort_female:\n",
    "    print(\"Employee ID:\", employee[0])\n",
    "    print(\"Last Name:\", employee[1])\n",
    "    print(\"First Name:\", employee[2])\n",
    "    print(\"Gender:\", employee[3])\n",
    "    print(\"Position:\", employee[4])"
   ]
  }
 ],
 "metadata": {
  "kernelspec": {
   "display_name": "Python 3",
   "language": "python",
   "name": "python3"
  },
  "language_info": {
   "codemirror_mode": {
    "name": "ipython",
    "version": 3
   },
   "file_extension": ".py",
   "mimetype": "text/x-python",
   "name": "python",
   "nbconvert_exporter": "python",
   "pygments_lexer": "ipython3",
   "version": "3.11.5"
  },
  "orig_nbformat": 4
 },
 "nbformat": 4,
 "nbformat_minor": 2
}
