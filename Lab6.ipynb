{
 "cells": [
  {
   "cell_type": "code",
   "execution_count": 1,
   "metadata": {},
   "outputs": [
    {
     "name": "stdout",
     "output_type": "stream",
     "text": [
      "Hello santhosh\n",
      "You entered 6379314514\n",
      "You entered santhoshkumar150822@mail.com\n",
      "You entered 15/8/2002\n",
      "You entered 1234-5678-9009-4321\n"
     ]
    }
   ],
   "source": [
    "import re\n",
    "import calendar\n",
    "\n",
    "def validate_dob(dob):\n",
    "    if not re.match(\"^[0-9]{1,2}\\\\/[0-9]{1,2}\\\\/20[0-9]{2}$\", dob):\n",
    "        return False\n",
    "\n",
    "    # Check if the date is valid\n",
    "    day, month, year = dob.split(\"/\")\n",
    "    day = int(day)\n",
    "    month = int(month)\n",
    "    year= int(year)\n",
    "    if day > calendar.monthrange(year, month)[1]:\n",
    "        return False\n",
    "\n",
    "    if year < 2000 or year > 2023:\n",
    "        return False\n",
    "\n",
    "    return True\n",
    "\n",
    "def form():\n",
    "  \n",
    "    name = input(\"Please enter your name: \")\n",
    "    while not re.match(\"^[A-Za-z]*$\", name):\n",
    "        print (\"Error! Make sure you only use letters in your name\")\n",
    "        name = input(\"Please enter your name: \")\n",
    "    print(\"Hello \"+ name)\n",
    "\n",
    "    number = input(\"Please enter your number: \")\n",
    "    while not re.match(\"\\d{10}\", number):\n",
    "        print (\"Error! it should be 10 digit number\")\n",
    "        number = input(\"Please enter your number again: \")\n",
    "    print(\"You entered \"+ number)\n",
    "\n",
    "\n",
    "    email = input(\"Please enter your number: \")\n",
    "    while not re.match(\"[A-Za-z0-9._%+-]+@[A-Za-z0-9.-]+\\.[A-Z|a-z]{2,7}\", email):\n",
    "        print (\"Error! it should be proper email\")\n",
    "        email = input(\"Please enter your email again: \")\n",
    "    print(\"You entered \"+ email)\n",
    "\n",
    "    dob = input(\"Please enter your dob: \")\n",
    "\n",
    "    while not validate_dob(dob):\n",
    "        print (\"Error! please enter a valid dob\")\n",
    "        dob = input(\"Please enter your dob again: \")\n",
    "\n",
    "    print(\"You entered \"+ dob)\n",
    "\n",
    "    card = input(\"Please enter your your card number: \")\n",
    "    while not re.match(r\"(\\d{4})(-?)(\\d{4})(\\2\\d{4}){2}\", card):\n",
    "        print (\"Error! it should be proper card number\")\n",
    "        card = input(\"Please enter your your card number again: \")\n",
    "    print(\"You entered \"+ card)\n",
    "\n",
    "form()\n"
   ]
  }
 ],
 "metadata": {
  "kernelspec": {
   "display_name": "Python 3",
   "language": "python",
   "name": "python3"
  },
  "language_info": {
   "codemirror_mode": {
    "name": "ipython",
    "version": 3
   },
   "file_extension": ".py",
   "mimetype": "text/x-python",
   "name": "python",
   "nbconvert_exporter": "python",
   "pygments_lexer": "ipython3",
   "version": "3.11.5"
  },
  "orig_nbformat": 4
 },
 "nbformat": 4,
 "nbformat_minor": 2
}
