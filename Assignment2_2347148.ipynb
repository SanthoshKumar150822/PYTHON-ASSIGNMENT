{
 "cells": [
  {
   "cell_type": "code",
   "execution_count": 3,
   "metadata": {},
   "outputs": [
    {
     "name": "stdout",
     "output_type": "stream",
     "text": [
      "[15, 45, 15]\n",
      "[100, 484, 2500, 484, 10000]\n",
      "204\n",
      "[100, 7, 10, 45, 15, 50, 22]\n"
     ]
    }
   ],
   "source": [
    "score=[7,10,15,22,45,50,15,22,100]\n",
    "l1=[i for i in score if i%3==0]\n",
    "print(l1)\n",
    "l2=[i**2 for i in score if i%2==0]\n",
    "print(l2)\n",
    "l3=[i for i in score if i%2==0]\n",
    "print(sum(l3))\n",
    "l4=[*set(score)]\n",
    "print(l4)"
   ]
  },
  {
   "cell_type": "code",
   "execution_count": 1,
   "metadata": {},
   "outputs": [
    {
     "name": "stdout",
     "output_type": "stream",
     "text": [
      "07/07/1981\n"
     ]
    }
   ],
   "source": [
    "'''def birthdate(name):\n",
    "    players={\"DHONI\":\"07/07/1981\",\"SANTHOSH\":\"15/08/2002\",\"KOHLI\":\"05/11/1988\"}\n",
    "    return players.get(name)\n",
    "birthdate(\"SANTHOSH\")'''\n",
    "\n",
    "def birthdate():\n",
    "    players={\"DHONI\":\"07/07/1981\",\"SANTHOSH\":\"15/08/2002\",\"KOHLI\":\"05/11/1988\"}\n",
    "    print(players.get(\"DHONI\"))\n",
    "birthdate()\n"
   ]
  }
 ],
 "metadata": {
  "kernelspec": {
   "display_name": "Python 3",
   "language": "python",
   "name": "python3"
  },
  "language_info": {
   "codemirror_mode": {
    "name": "ipython",
    "version": 3
   },
   "file_extension": ".py",
   "mimetype": "text/x-python",
   "name": "python",
   "nbconvert_exporter": "python",
   "pygments_lexer": "ipython3",
   "version": "3.10.5"
  },
  "orig_nbformat": 4
 },
 "nbformat": 4,
 "nbformat_minor": 2
}
